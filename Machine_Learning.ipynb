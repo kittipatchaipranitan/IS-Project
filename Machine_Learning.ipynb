{
  "nbformat": 4,
  "nbformat_minor": 0,
  "metadata": {
    "colab": {
      "provenance": []
    },
    "kernelspec": {
      "name": "python3",
      "display_name": "Python 3"
    },
    "language_info": {
      "name": "python"
    }
  },
  "cells": [
    {
      "cell_type": "code",
      "execution_count": 1,
      "metadata": {
        "id": "ju_uIVD88NGN"
      },
      "outputs": [],
      "source": [
        "import pandas as pd\n",
        "import seaborn as sns\n",
        "import matplotlib.pyplot as plt\n",
        "from sklearn.model_selection import train_test_split\n",
        "from sklearn.preprocessing import StandardScaler\n",
        "from sklearn.neural_network import MLPRegressor\n",
        "from sklearn.metrics import mean_absolute_error, mean_squared_error, r2_score\n",
        "from sklearn.ensemble import RandomForestRegressor\n",
        "from sklearn.ensemble import GradientBoostingRegressor\n",
        "import numpy as np"
      ]
    },
    {
      "cell_type": "code",
      "source": [
        "from google.colab import files\n",
        "uploaded = files.upload()"
      ],
      "metadata": {
        "colab": {
          "base_uri": "https://localhost:8080/",
          "height": 73
        },
        "id": "HolOTpum8pGF",
        "outputId": "46fa0e3c-908c-4b5c-93ad-16a424d7332e"
      },
      "execution_count": 2,
      "outputs": [
        {
          "output_type": "display_data",
          "data": {
            "text/plain": [
              "<IPython.core.display.HTML object>"
            ],
            "text/html": [
              "\n",
              "     <input type=\"file\" id=\"files-43934a41-9536-4539-bc72-ad19f3731bcd\" name=\"files[]\" multiple disabled\n",
              "        style=\"border:none\" />\n",
              "     <output id=\"result-43934a41-9536-4539-bc72-ad19f3731bcd\">\n",
              "      Upload widget is only available when the cell has been executed in the\n",
              "      current browser session. Please rerun this cell to enable.\n",
              "      </output>\n",
              "      <script>// Copyright 2017 Google LLC\n",
              "//\n",
              "// Licensed under the Apache License, Version 2.0 (the \"License\");\n",
              "// you may not use this file except in compliance with the License.\n",
              "// You may obtain a copy of the License at\n",
              "//\n",
              "//      http://www.apache.org/licenses/LICENSE-2.0\n",
              "//\n",
              "// Unless required by applicable law or agreed to in writing, software\n",
              "// distributed under the License is distributed on an \"AS IS\" BASIS,\n",
              "// WITHOUT WARRANTIES OR CONDITIONS OF ANY KIND, either express or implied.\n",
              "// See the License for the specific language governing permissions and\n",
              "// limitations under the License.\n",
              "\n",
              "/**\n",
              " * @fileoverview Helpers for google.colab Python module.\n",
              " */\n",
              "(function(scope) {\n",
              "function span(text, styleAttributes = {}) {\n",
              "  const element = document.createElement('span');\n",
              "  element.textContent = text;\n",
              "  for (const key of Object.keys(styleAttributes)) {\n",
              "    element.style[key] = styleAttributes[key];\n",
              "  }\n",
              "  return element;\n",
              "}\n",
              "\n",
              "// Max number of bytes which will be uploaded at a time.\n",
              "const MAX_PAYLOAD_SIZE = 100 * 1024;\n",
              "\n",
              "function _uploadFiles(inputId, outputId) {\n",
              "  const steps = uploadFilesStep(inputId, outputId);\n",
              "  const outputElement = document.getElementById(outputId);\n",
              "  // Cache steps on the outputElement to make it available for the next call\n",
              "  // to uploadFilesContinue from Python.\n",
              "  outputElement.steps = steps;\n",
              "\n",
              "  return _uploadFilesContinue(outputId);\n",
              "}\n",
              "\n",
              "// This is roughly an async generator (not supported in the browser yet),\n",
              "// where there are multiple asynchronous steps and the Python side is going\n",
              "// to poll for completion of each step.\n",
              "// This uses a Promise to block the python side on completion of each step,\n",
              "// then passes the result of the previous step as the input to the next step.\n",
              "function _uploadFilesContinue(outputId) {\n",
              "  const outputElement = document.getElementById(outputId);\n",
              "  const steps = outputElement.steps;\n",
              "\n",
              "  const next = steps.next(outputElement.lastPromiseValue);\n",
              "  return Promise.resolve(next.value.promise).then((value) => {\n",
              "    // Cache the last promise value to make it available to the next\n",
              "    // step of the generator.\n",
              "    outputElement.lastPromiseValue = value;\n",
              "    return next.value.response;\n",
              "  });\n",
              "}\n",
              "\n",
              "/**\n",
              " * Generator function which is called between each async step of the upload\n",
              " * process.\n",
              " * @param {string} inputId Element ID of the input file picker element.\n",
              " * @param {string} outputId Element ID of the output display.\n",
              " * @return {!Iterable<!Object>} Iterable of next steps.\n",
              " */\n",
              "function* uploadFilesStep(inputId, outputId) {\n",
              "  const inputElement = document.getElementById(inputId);\n",
              "  inputElement.disabled = false;\n",
              "\n",
              "  const outputElement = document.getElementById(outputId);\n",
              "  outputElement.innerHTML = '';\n",
              "\n",
              "  const pickedPromise = new Promise((resolve) => {\n",
              "    inputElement.addEventListener('change', (e) => {\n",
              "      resolve(e.target.files);\n",
              "    });\n",
              "  });\n",
              "\n",
              "  const cancel = document.createElement('button');\n",
              "  inputElement.parentElement.appendChild(cancel);\n",
              "  cancel.textContent = 'Cancel upload';\n",
              "  const cancelPromise = new Promise((resolve) => {\n",
              "    cancel.onclick = () => {\n",
              "      resolve(null);\n",
              "    };\n",
              "  });\n",
              "\n",
              "  // Wait for the user to pick the files.\n",
              "  const files = yield {\n",
              "    promise: Promise.race([pickedPromise, cancelPromise]),\n",
              "    response: {\n",
              "      action: 'starting',\n",
              "    }\n",
              "  };\n",
              "\n",
              "  cancel.remove();\n",
              "\n",
              "  // Disable the input element since further picks are not allowed.\n",
              "  inputElement.disabled = true;\n",
              "\n",
              "  if (!files) {\n",
              "    return {\n",
              "      response: {\n",
              "        action: 'complete',\n",
              "      }\n",
              "    };\n",
              "  }\n",
              "\n",
              "  for (const file of files) {\n",
              "    const li = document.createElement('li');\n",
              "    li.append(span(file.name, {fontWeight: 'bold'}));\n",
              "    li.append(span(\n",
              "        `(${file.type || 'n/a'}) - ${file.size} bytes, ` +\n",
              "        `last modified: ${\n",
              "            file.lastModifiedDate ? file.lastModifiedDate.toLocaleDateString() :\n",
              "                                    'n/a'} - `));\n",
              "    const percent = span('0% done');\n",
              "    li.appendChild(percent);\n",
              "\n",
              "    outputElement.appendChild(li);\n",
              "\n",
              "    const fileDataPromise = new Promise((resolve) => {\n",
              "      const reader = new FileReader();\n",
              "      reader.onload = (e) => {\n",
              "        resolve(e.target.result);\n",
              "      };\n",
              "      reader.readAsArrayBuffer(file);\n",
              "    });\n",
              "    // Wait for the data to be ready.\n",
              "    let fileData = yield {\n",
              "      promise: fileDataPromise,\n",
              "      response: {\n",
              "        action: 'continue',\n",
              "      }\n",
              "    };\n",
              "\n",
              "    // Use a chunked sending to avoid message size limits. See b/62115660.\n",
              "    let position = 0;\n",
              "    do {\n",
              "      const length = Math.min(fileData.byteLength - position, MAX_PAYLOAD_SIZE);\n",
              "      const chunk = new Uint8Array(fileData, position, length);\n",
              "      position += length;\n",
              "\n",
              "      const base64 = btoa(String.fromCharCode.apply(null, chunk));\n",
              "      yield {\n",
              "        response: {\n",
              "          action: 'append',\n",
              "          file: file.name,\n",
              "          data: base64,\n",
              "        },\n",
              "      };\n",
              "\n",
              "      let percentDone = fileData.byteLength === 0 ?\n",
              "          100 :\n",
              "          Math.round((position / fileData.byteLength) * 100);\n",
              "      percent.textContent = `${percentDone}% done`;\n",
              "\n",
              "    } while (position < fileData.byteLength);\n",
              "  }\n",
              "\n",
              "  // All done.\n",
              "  yield {\n",
              "    response: {\n",
              "      action: 'complete',\n",
              "    }\n",
              "  };\n",
              "}\n",
              "\n",
              "scope.google = scope.google || {};\n",
              "scope.google.colab = scope.google.colab || {};\n",
              "scope.google.colab._files = {\n",
              "  _uploadFiles,\n",
              "  _uploadFilesContinue,\n",
              "};\n",
              "})(self);\n",
              "</script> "
            ]
          },
          "metadata": {}
        },
        {
          "output_type": "stream",
          "name": "stdout",
          "text": [
            "Saving titanic_dataset_with_missing.csv to titanic_dataset_with_missing.csv\n"
          ]
        }
      ]
    },
    {
      "cell_type": "code",
      "source": [
        "df_titanic = pd.read_csv(\"titanic_dataset_with_missing.csv\")"
      ],
      "metadata": {
        "id": "4KCuDaOj8Ru9"
      },
      "execution_count": 3,
      "outputs": []
    },
    {
      "cell_type": "code",
      "source": [
        "df_titanic.fillna(df_titanic.median(), inplace=True)"
      ],
      "metadata": {
        "id": "RQSs0xHx8TgK"
      },
      "execution_count": 4,
      "outputs": []
    },
    {
      "cell_type": "code",
      "source": [
        "# Define features and target variable\n",
        "X_titanic = df_titanic.drop(columns=['fare'])  # Features\n",
        "y_titanic = df_titanic['fare']  # Target (ราคาตั๋ว)"
      ],
      "metadata": {
        "id": "Bg5DbfyB8WYU"
      },
      "execution_count": 5,
      "outputs": []
    },
    {
      "cell_type": "code",
      "source": [
        "X_train_titanic, X_test_titanic, y_train_titanic, y_test_titanic = train_test_split(\n",
        "    X_titanic, y_titanic, test_size=0.2, random_state=42\n",
        ")"
      ],
      "metadata": {
        "id": "WcU0JNxw8Z5_"
      },
      "execution_count": 6,
      "outputs": []
    },
    {
      "cell_type": "code",
      "source": [
        "# Standardize data for better performance\n",
        "scaler_titanic = StandardScaler()\n",
        "X_train_titanic = scaler_titanic.fit_transform(X_train_titanic)\n",
        "X_test_titanic = scaler_titanic.transform(X_test_titanic)"
      ],
      "metadata": {
        "id": "XJd7xgSi8cOS"
      },
      "execution_count": 7,
      "outputs": []
    },
    {
      "cell_type": "code",
      "source": [
        "# Import the required library\n",
        "from sklearn.ensemble import RandomForestRegressor\n",
        "\n",
        "# Train Random Forest Regressor\n",
        "rf_model_titanic = RandomForestRegressor(\n",
        "    n_estimators=500, max_depth=20, random_state=42, n_jobs=-1\n",
        ")\n",
        "\n",
        "rf_model_titanic.fit(X_train_titanic, y_train_titanic)\n",
        "y_pred_rf = rf_model_titanic.predict(X_test_titanic)\n"
      ],
      "metadata": {
        "id": "AjooYOMH8dgK"
      },
      "execution_count": 10,
      "outputs": []
    },
    {
      "cell_type": "code",
      "source": [
        "# Import the required library\n",
        "from sklearn.ensemble import GradientBoostingRegressor\n",
        "\n",
        "# Train Gradient Boosting Regressor\n",
        "gb_model_titanic = GradientBoostingRegressor(\n",
        "    n_estimators=500, learning_rate=0.03, max_depth=7, random_state=42\n",
        ")\n",
        "\n",
        "gb_model_titanic.fit(X_train_titanic, y_train_titanic)\n",
        "y_pred_gb = gb_model_titanic.predict(X_test_titanic)\n"
      ],
      "metadata": {
        "id": "4JivKxjg8fvI"
      },
      "execution_count": 12,
      "outputs": []
    },
    {
      "cell_type": "code",
      "source": [
        "# Evaluate Models\n",
        "def evaluate_model(y_test, y_pred, model_name):\n",
        "    mae = mean_absolute_error(y_test, y_pred)\n",
        "    mse = mean_squared_error(y_test, y_pred)\n",
        "    rmse = np.sqrt(mse)\n",
        "    r2 = r2_score(y_test, y_pred)\n",
        "    print(f\"{model_name} Performance:\")\n",
        "    print(f\"  MAE: {mae:.2f}, MSE: {mse:.2f}, RMSE: {rmse:.2f}, R²: {r2:.2f}\\n\")\n",
        "    return mae, mse, rmse, r2"
      ],
      "metadata": {
        "id": "Q-RtCmQ48hTF"
      },
      "execution_count": 13,
      "outputs": []
    },
    {
      "cell_type": "code",
      "source": [
        "# Evaluate Models\n",
        "def evaluate_model(y_test, y_pred, model_name):\n",
        "    mae = mean_absolute_error(y_test, y_pred)\n",
        "    mse = mean_squared_error(y_test, y_pred)\n",
        "    rmse = np.sqrt(mse)\n",
        "    r2 = r2_score(y_test, y_pred)\n",
        "    print(f\"{model_name} Performance:\")\n",
        "    print(f\"  MAE: {mae:.2f}, MSE: {mse:.2f}, RMSE: {rmse:.2f}, R²: {r2:.2f}\\n\")\n",
        "    return mae, mse, rmse, r2"
      ],
      "metadata": {
        "id": "ufm2uJIp8l8G"
      },
      "execution_count": 14,
      "outputs": []
    },
    {
      "cell_type": "code",
      "source": [
        "# Evaluate each model\n",
        "rf_results = evaluate_model(y_test_titanic, y_pred_rf, \"Random Forest\")\n",
        "gb_results = evaluate_model(y_test_titanic, y_pred_gb, \"Gradient Boosting\")"
      ],
      "metadata": {
        "colab": {
          "base_uri": "https://localhost:8080/"
        },
        "id": "GuHY7nO8KqzA",
        "outputId": "5db4b78b-ab2d-43c8-f765-f6f5710111be"
      },
      "execution_count": 15,
      "outputs": [
        {
          "output_type": "stream",
          "name": "stdout",
          "text": [
            "Random Forest Performance:\n",
            "  MAE: 48.16, MSE: 3318.83, RMSE: 57.61, R²: -0.21\n",
            "\n",
            "Gradient Boosting Performance:\n",
            "  MAE: 52.99, MSE: 4159.60, RMSE: 64.49, R²: -0.51\n",
            "\n"
          ]
        }
      ]
    },
    {
      "cell_type": "code",
      "source": [
        "# Compare Models with Bar Chart\n",
        "models = ['Random Forest', 'Gradient Boosting']\n",
        "mae_values = [rf_results[0], gb_results[0]]\n",
        "mse_values = [rf_results[1], gb_results[1]]\n",
        "rmse_values = [rf_results[2], gb_results[2]]\n",
        "r2_values = [rf_results[3], gb_results[3]]"
      ],
      "metadata": {
        "id": "DFi4bOaVMtFR"
      },
      "execution_count": 16,
      "outputs": []
    },
    {
      "cell_type": "code",
      "source": [
        "plt.figure(figsize=(10, 5))\n",
        "plt.bar(models, mae_values, color=['blue', 'green'])\n",
        "plt.xlabel(\"Models\")\n",
        "plt.ylabel(\"MAE\")\n",
        "plt.title(\"Mean Absolute Error Comparison\")\n",
        "plt.show()"
      ],
      "metadata": {
        "colab": {
          "base_uri": "https://localhost:8080/",
          "height": 487
        },
        "id": "pmoA0EdPMwA4",
        "outputId": "04ddfdfe-1d53-4950-af5b-793483d1232c"
      },
      "execution_count": 17,
      "outputs": [
        {
          "output_type": "display_data",
          "data": {
            "text/plain": [
              "<Figure size 1000x500 with 1 Axes>"
            ],
            "image/png": "[encoded data removed]"
          },
          "metadata": {}
        }
      ]
    },
    {
      "cell_type": "code",
      "source": [
        "# Function for user input prediction\n",
        "def predict_fare_price():\n",
        "    input_features = []\n",
        "    for feature in X_titanic.columns:\n",
        "        value = float(input(f\"Enter value for {feature}: \"))\n",
        "        input_features.append(value)\n",
        "\n",
        "    if len(input_features) != X_titanic.shape[1]:\n",
        "        raise ValueError(f\"Expected {X_titanic.shape[1]} features, but got {len(input_features)}\")\n",
        "\n",
        "    input_array = np.array(input_features).reshape(1, -1)\n",
        "    input_scaled = scaler_titanic.transform(input_array)\n",
        "    predicted_rf = rf_model_titanic.predict(input_scaled)[0]\n",
        "    predicted_gb = gb_model_titanic.predict(input_scaled)[0]\n",
        "\n",
        "    weighted_avg_fare = (0.6 * predicted_rf) + (0.4 * predicted_gb)  # Weighting Random Forest more\n",
        "\n",
        "    print(f\"Predicted Fare Price (Random Forest): {predicted_rf:.2f}\")\n",
        "    print(f\"Predicted Fare Price (Gradient Boosting): {predicted_gb:.2f}\")\n",
        "    print(f\"Weighted Average Predicted Fare Price: {weighted_avg_fare:.2f}\")\n",
        "\n",
        "# Example usage\n",
        "predict_fare_price()"
      ],
      "metadata": {
        "colab": {
          "base_uri": "https://localhost:8080/"
        },
        "id": "pSX-ZjSMMzhT",
        "outputId": "9b9db5b6-0656-4e0d-f834-6f65d5ebb434"
      },
      "execution_count": 18,
      "outputs": [
        {
          "output_type": "stream",
          "name": "stdout",
          "text": [
            "Enter value for age: 71\n",
            "Enter value for sibsp: 3\n",
            "Enter value for parch: 0\n",
            "Enter value for survived: 0\n",
            "Enter value for sex_male: 1\n",
            "Enter value for class_Second: 0\n",
            "Enter value for class_Third: 1\n",
            "Predicted Fare Price (Random Forest): 57.11\n",
            "Predicted Fare Price (Gradient Boosting): 41.21\n",
            "Weighted Average Predicted Fare Price: 50.75\n"
          ]
        },
        {
          "output_type": "stream",
          "name": "stderr",
          "text": [
            "/usr/local/lib/python3.11/dist-packages/sklearn/utils/validation.py:2739: UserWarning: X does not have valid feature names, but StandardScaler was fitted with feature names\n",
            "  warnings.warn(\n"
          ]
        }
      ]
    },
    {
      "cell_type": "code",
      "source": [
        "import pickle\n",
        "\n",
        "# ตรวจสอบก่อนบันทึกไฟล์\n",
        "if 'rf_model_titanic' in locals():\n",
        "    pickle.dump(rf_model_titanic, open(\"rf_model.pkl\", \"wb\"))\n",
        "    print(\"✅ บันทึกโมเดล Random Forest สำเร็จ!\")\n",
        "\n",
        "if 'gb_model_titanic' in locals():\n",
        "    pickle.dump(gb_model_titanic, open(\"gb_model.pkl\", \"wb\"))\n",
        "    print(\"✅ บันทึกโมเดล Gradient Boosting สำเร็จ!\")\n",
        "\n",
        "if 'scaler_titanic' in locals():\n",
        "    pickle.dump(scaler_titanic, open(\"scaler.pkl\", \"wb\"))\n",
        "    print(\"✅ บันทึก StandardScaler สำเร็จ!\")\n",
        "\n",
        "print(\"🎉 บันทึกโมเดล Machine Learning ทั้งหมดสำเร็จแล้ว!\")\n"
      ],
      "metadata": {
        "colab": {
          "base_uri": "https://localhost:8080/"
        },
        "id": "txGZ328Yx_o0",
        "outputId": "6fbb44ae-42a2-4161-a13d-3c5a1c54b49d"
      },
      "execution_count": 20,
      "outputs": [
        {
          "output_type": "stream",
          "name": "stdout",
          "text": [
            "✅ บันทึกโมเดล Random Forest สำเร็จ!\n",
            "✅ บันทึกโมเดล Gradient Boosting สำเร็จ!\n",
            "✅ บันทึก StandardScaler สำเร็จ!\n",
            "🎉 บันทึกโมเดล Machine Learning ทั้งหมดสำเร็จแล้ว!\n"
          ]
        }
      ]
    }
  ]
}